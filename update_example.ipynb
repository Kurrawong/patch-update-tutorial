{
 "cells": [
  {
   "cell_type": "markdown",
   "id": "55e0e224-faf4-4379-9180-fc9e11e59ce4",
   "metadata": {},
   "source": [
    "## Define some functions\n",
    "These functions:\n",
    "1. Generate persistent blank node identifiers\n",
    "2. Generate RDF patches"
   ]
  },
  {
   "cell_type": "code",
   "execution_count": 24,
   "id": "ffde59c79d42f8fb",
   "metadata": {
    "ExecuteTime": {
     "end_time": "2024-05-27T05:00:02.711323Z",
     "start_time": "2024-05-27T05:00:02.707941Z"
    }
   },
   "outputs": [],
   "source": [
    "import uuid\n",
    "from rdflib import Graph, Literal, URIRef, Namespace\n",
    "\n",
    "# Namespace for your application\n",
    "NAMESPACE = uuid.uuid5(uuid.NAMESPACE_URL, \"https://graph-id\")\n",
    "\n",
    "\n",
    "def generate_address_uuid(customer_id, address_details):\n",
    "    # Combine customer ID and address details to create a unique name\n",
    "    name = f\"{customer_id}:{address_details.get('street')}:{address_details.get('city')}:{address_details.get('state')}:{address_details.get('country')}\"\n",
    "    return uuid.uuid5(NAMESPACE, name)\n",
    "\n",
    "\n",
    "def generate_rdf_ntriples(customer_id, address, uuid):\n",
    "    \"\"\"\n",
    "    NB this function creates URIs for BlankNodes. \n",
    "    Jena understands URIs that start with _: as not being real URIs and instead handles these as blanknodes.\n",
    "    This allows RDF patches to be created externally and refer to existing blank nodes within the graph - so long as they utilise the same identifier.\n",
    "    The generate_address_uuid function is an example of how to achieve unique identifiers.\n",
    "    \"\"\"\n",
    "    g = Graph()\n",
    "\n",
    "    ex = Namespace(\"http://example.org/\")\n",
    "\n",
    "    addr = URIRef(f\"_:{str(uuid)}\")\n",
    "\n",
    "    g.add((URIRef(f\"http://example.org/customer/{customer_id}\"), ex.hasAddress, addr))\n",
    "    g.add((addr, ex.street, Literal(address.get('street'))))\n",
    "    g.add((addr, ex.city, Literal(address.get('city'))))\n",
    "    g.add((addr, ex.state, Literal(address.get('state'))))\n",
    "\n",
    "    if address.get('country'):\n",
    "        g.add((addr, ex.country, Literal(address.get('country'))))\n",
    "\n",
    "    return g\n",
    "\n",
    "\n",
    "def generate_patch(add_triples, delete_triples):\n",
    "    patch = \"TX .\\n\"\n",
    "\n",
    "    for triple in delete_triples:\n",
    "        patch += f\"D {triple.strip()}\\n\"\n",
    "\n",
    "    for triple in add_triples:\n",
    "        patch += f\"A {triple.strip()}\\n\"\n",
    "\n",
    "    patch += \"TC .\\n\"\n",
    "    return patch"
   ]
  },
  {
   "cell_type": "markdown",
   "id": "cef16350-8b66-4544-8610-fd2d54ff7a52",
   "metadata": {},
   "source": [
    "## Create initial RDF data\n",
    "Start with some data from a relational source and convert to RDF, with persistent identifiers for Blank Nodes"
   ]
  },
  {
   "cell_type": "code",
   "execution_count": 25,
   "id": "55ee81d0-2f86-4a17-9d70-dcdb8a9ddc93",
   "metadata": {
    "ExecuteTime": {
     "start_time": "2024-05-27T05:00:03.789977Z"
    }
   },
   "outputs": [
    {
     "name": "stdout",
     "output_type": "stream",
     "text": [
      "<_:d562967b-2c53-5864-9b92-d842d1bad2e6> <http://example.org/street> \"123 Main St\" .\n",
      "<_:a69cf8fd-977c-545b-93b5-ba2a6ea05bfb> <http://example.org/state> \"MN\" .\n",
      "<_:a69cf8fd-977c-545b-93b5-ba2a6ea05bfb> <http://example.org/country> \"USA\" .\n",
      "<http://example.org/customer/customer-123> <http://example.org/hasAddress> <_:d562967b-2c53-5864-9b92-d842d1bad2e6> .\n",
      "<http://example.org/customer/customer-123> <http://example.org/hasAddress> <_:a69cf8fd-977c-545b-93b5-ba2a6ea05bfb> .\n",
      "<_:d562967b-2c53-5864-9b92-d842d1bad2e6> <http://example.org/state> \"CA\" .\n",
      "<_:a69cf8fd-977c-545b-93b5-ba2a6ea05bfb> <http://example.org/street> \"456 Elm St\" .\n",
      "<_:d562967b-2c53-5864-9b92-d842d1bad2e6> <http://example.org/city> \"Anytown\" .\n",
      "<_:a69cf8fd-977c-545b-93b5-ba2a6ea05bfb> <http://example.org/city> \"Othertown\" .\n",
      "\n"
     ]
    }
   ],
   "source": [
    "customer_id = 'customer-123'\n",
    "addresses = [\n",
    "    {\n",
    "        'street': '123 Main St',\n",
    "        'city': 'Anytown',\n",
    "        'state': 'CA'\n",
    "    },\n",
    "    {\n",
    "        'street': '456 Elm St',\n",
    "        'city': 'Othertown',\n",
    "        'state': 'MN',\n",
    "        'country': 'USA'\n",
    "    }\n",
    "]\n",
    "\n",
    "# Generate UUIDs for the addresses\n",
    "uuids = [generate_address_uuid(customer_id, address) for address in addresses]\n",
    "\n",
    "# Generate RDF N-Triples for the addresses\n",
    "add_triples_gs = [generate_rdf_ntriples(customer_id, address, uuid) for address, uuid in zip(addresses, uuids)]\n",
    "g = Graph()\n",
    "for address_g in add_triples_gs:\n",
    "    g += address_g\n",
    "\n",
    "triples = g.serialize(format=\"ntriples\")\n",
    "print(triples)"
   ]
  },
  {
   "cell_type": "markdown",
   "id": "f01b1e0e-9d98-451b-93da-e465be53dbd0",
   "metadata": {},
   "source": [
    "## Update the data\n",
    "1. Create a patch which updates one of the above addresses\n",
    "2. Apply the patch (external to Jupyter)\n",
    "\n",
    "NB: The above RDF would be created as an addition patch and sent to the RDF Delta server. For the purposes of this tutorial it can be persisted to disk, and the update patch that is created below can be applied to it."
   ]
  },
  {
   "cell_type": "code",
   "execution_count": 26,
   "id": "12aa993c-ab57-402e-8857-9f8665165f01",
   "metadata": {},
   "outputs": [
    {
     "name": "stdout",
     "output_type": "stream",
     "text": [
      "TX .\n",
      "D <_:d562967b-2c53-5864-9b92-d842d1bad2e6> <http://example.org/city> \"Anytown\" .\n",
      "D <_:d562967b-2c53-5864-9b92-d842d1bad2e6> <http://example.org/street> \"123 Main St\" .\n",
      "D <http://example.org/customer/customer-123> <http://example.org/hasAddress> <_:d562967b-2c53-5864-9b92-d842d1bad2e6> .\n",
      "D <_:d562967b-2c53-5864-9b92-d842d1bad2e6> <http://example.org/state> \"CA\" .\n",
      "A <_:79014a1e-ed41-5ae1-a6cf-017d4d7088ad> <http://example.org/street> \"789 Oak St\" .\n",
      "A <_:79014a1e-ed41-5ae1-a6cf-017d4d7088ad> <http://example.org/country> \"USA\" .\n",
      "A <_:79014a1e-ed41-5ae1-a6cf-017d4d7088ad> <http://example.org/city> \"Anytown\" .\n",
      "A <http://example.org/customer/customer-123> <http://example.org/hasAddress> <_:79014a1e-ed41-5ae1-a6cf-017d4d7088ad> .\n",
      "A <_:79014a1e-ed41-5ae1-a6cf-017d4d7088ad> <http://example.org/state> \"CA\" .\n",
      "TC .\n",
      "\n"
     ]
    }
   ],
   "source": [
    "# Example update for address 1\n",
    "old_address = addresses[0]\n",
    "new_address = {\n",
    "    'street': '789 Oak St',\n",
    "    'city': 'Anytown',\n",
    "    'state': 'CA',\n",
    "    'country': 'USA'\n",
    "}\n",
    "old_uuid = uuids[0]\n",
    "new_uuid = generate_address_uuid(customer_id, new_address)\n",
    "\n",
    "# Generate RDF N-Triples for the old and new addresses\n",
    "delete_triples = generate_rdf_ntriples(customer_id, old_address, old_uuid).serialize(format=\"ntriples\").splitlines()\n",
    "new_add_triples = generate_rdf_ntriples(customer_id, new_address, new_uuid).serialize(format=\"ntriples\").splitlines()\n",
    "\n",
    "# Generate the patch\n",
    "patch = generate_patch(new_add_triples, delete_triples)\n",
    "\n",
    "print(patch)"
   ]
  },
  {
   "cell_type": "markdown",
   "id": "9cbab55c-6d1b-4c47-8f07-8fc0540f8251",
   "metadata": {},
   "source": [
    "## Test with RDF Delta\n",
    "\n",
    "1. Download RDF Delta from: https://repo1.maven.org/maven2/org/seaborne/rdf-delta/rdf-delta-dist/\n",
    "2. Save the above ntriples file as \"addresses.nt\".  \n",
    "3. Save the above update patch as \"update.rdp\".  \n",
    "\n",
    "With the Jena command line tools installed you can then run:"
   ]
  },
  {
   "cell_type": "markdown",
   "id": "0c32bf1b-5446-4b41-91b0-a43528239789",
   "metadata": {},
   "source": [
    "```sh\n",
    "dcmd p2r --data addresses.nt update.rdp > updated_addresses.ttl\n",
    "```"
   ]
  },
  {
   "cell_type": "markdown",
   "id": "c382547c-6369-4bdd-98cf-b31cbdbdb7f5",
   "metadata": {},
   "source": [
    "This produces the following output:\n",
    "NB the \"Anytown\" address has been updated."
   ]
  },
  {
   "cell_type": "markdown",
   "id": "2549bfa5-98f7-4887-a667-86467b33b4c5",
   "metadata": {},
   "source": [
    "```turtle\n",
    "<http://example.org/customer/customer-123>\n",
    "        <http://example.org/hasAddress>\n",
    "                [ <http://example.org/city>     \"Othertown\" ;\n",
    "                  <http://example.org/country>  \"USA\" ;\n",
    "                  <http://example.org/state>    \"MN\" ;\n",
    "                  <http://example.org/street>   \"456 Elm St\"\n",
    "                ] ;\n",
    "        <http://example.org/hasAddress>\n",
    "                [ <http://example.org/city>     \"Anytown\" ;\n",
    "                  <http://example.org/country>  \"USA\" ;\n",
    "                  <http://example.org/state>    \"CA\" ;\n",
    "                  <http://example.org/street>   \"789 Oak St\"\n",
    "                ] .\n",
    "```"
   ]
  }
 ],
 "metadata": {
  "kernelspec": {
   "display_name": "Python 3 (ipykernel)",
   "language": "python",
   "name": "python3"
  },
  "language_info": {
   "codemirror_mode": {
    "name": "ipython",
    "version": 3
   },
   "file_extension": ".py",
   "mimetype": "text/x-python",
   "name": "python",
   "nbconvert_exporter": "python",
   "pygments_lexer": "ipython3",
   "version": "3.11.9"
  }
 },
 "nbformat": 4,
 "nbformat_minor": 5
}
